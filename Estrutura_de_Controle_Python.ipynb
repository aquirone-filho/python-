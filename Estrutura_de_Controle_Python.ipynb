{
  "nbformat": 4,
  "nbformat_minor": 0,
  "metadata": {
    "colab": {
      "provenance": [],
      "authorship_tag": "ABX9TyO1YEPSuhT7aJA5SUUoM0x9",
      "include_colab_link": true
    },
    "kernelspec": {
      "name": "python3",
      "display_name": "Python 3"
    },
    "language_info": {
      "name": "python"
    }
  },
  "cells": [
    {
      "cell_type": "markdown",
      "metadata": {
        "id": "view-in-github",
        "colab_type": "text"
      },
      "source": [
        "<a href=\"https://colab.research.google.com/github/aquirone-filho/python-/blob/main/Estrutura_de_Controle_Python.ipynb\" target=\"_parent\"><img src=\"https://colab.research.google.com/assets/colab-badge.svg\" alt=\"Open In Colab\"/></a>"
      ]
    },
    {
      "cell_type": "code",
      "execution_count": null,
      "metadata": {
        "colab": {
          "base_uri": "https://localhost:8080/"
        },
        "id": "Z297MlzbN9OR",
        "outputId": "5952afac-d0ed-4dd0-9813-d9ef94f429e2"
      },
      "outputs": [
        {
          "output_type": "stream",
          "name": "stdout",
          "text": [
            "Digite o seu peso: 81\n",
            "Digite a sua altura: 60\n",
            "0.02\n"
          ]
        }
      ],
      "source": [
        "peso = float(input('Digite o seu peso: '))\n",
        "altura = float(input('Digite a sua altura: '))\n",
        "\n",
        "IMC = peso / altura**2\n",
        "print(f\"{IMC:.2f}\")"
      ]
    },
    {
      "cell_type": "code",
      "source": [
        "nome = input('Coloque o nome: ')\n",
        "rua = input('Nome da rua: ')\n",
        "numero = input('Número: ')\n",
        "bairro = input('Bairro: ')\n",
        "cidade = input('Cidade: ')\n",
        "CEP = input('CEP - apenas números: ')\n",
        "\n",
        "print(f\"{nome}, residente á rua {rua}, {numero}, {bairro}, {cidade}, {CEP}\")"
      ],
      "metadata": {
        "colab": {
          "base_uri": "https://localhost:8080/"
        },
        "id": "kctCUDrhOnlW",
        "outputId": "545392e6-6bd3-421d-bdd5-c5e17d04a93b"
      },
      "execution_count": null,
      "outputs": [
        {
          "output_type": "stream",
          "name": "stdout",
          "text": [
            "Coloque o nome: Aquirone\n",
            "Nome da rua: Siqueira Campos\n",
            "Número: 59\n",
            "Bairro: Centro\n",
            "Cidade: Goiana\n",
            "CEP - apenas números: 55900000\n",
            "Aquirone, residente á rua Siqueira Campos, 59, Centro, Goiana, 55900000\n"
          ]
        }
      ]
    },
    {
      "cell_type": "code",
      "source": [
        "tempC = float(input('Qual a temperatura? '))\n",
        "\n",
        "tempFah = (tempC * 9/5) + 32\n",
        "print (tempFah)\n"
      ],
      "metadata": {
        "colab": {
          "base_uri": "https://localhost:8080/"
        },
        "id": "fHvvZChyP5Y-",
        "outputId": "5bbe0dad-aa73-45e6-e6c3-b90434879124"
      },
      "execution_count": null,
      "outputs": [
        {
          "output_type": "stream",
          "name": "stdout",
          "text": [
            "Qual a temperatura? 32\n",
            "89.6\n"
          ]
        }
      ]
    },
    {
      "cell_type": "markdown",
      "source": [
        "Estruturas de Controle IF ELSE ELIF\n",
        "\n",
        "Uso básico if"
      ],
      "metadata": {
        "id": "6AO2bmUCTetr"
      }
    },
    {
      "cell_type": "code",
      "source": [
        "#Recebe a idade do indivíduo e informa se ele é maior de idade.\n",
        "\n",
        "idade = 17\n",
        "if idade > 18:\n",
        "  print('É maior de idade: ')\n",
        "else:\n",
        "  print('É menor de idade')"
      ],
      "metadata": {
        "colab": {
          "base_uri": "https://localhost:8080/"
        },
        "id": "xPWXG6KJTqO7",
        "outputId": "0b38706e-fa0a-4487-f79f-16212638d9f0"
      },
      "execution_count": null,
      "outputs": [
        {
          "output_type": "stream",
          "name": "stdout",
          "text": [
            "É menor de idade\n"
          ]
        }
      ]
    },
    {
      "cell_type": "markdown",
      "source": [
        "Trabalhando com múltiplas condições ELIF"
      ],
      "metadata": {
        "id": "mDKimu8WWPEm"
      }
    },
    {
      "cell_type": "code",
      "source": [
        "#Recebe a idade do usuário e informa (60+), meia idade (+35), adulto(18+), menor de idade\n",
        "idade = 11\n",
        "\n",
        "if idade >= 60:\n",
        "  print('É idoso!')\n",
        "elif idade >=35:\n",
        "  print('Meia idade!')\n",
        "elif idade >=18:\n",
        "  print('Adulto!')\n",
        "else:\n",
        "  print ('Tu sói de menó!')"
      ],
      "metadata": {
        "colab": {
          "base_uri": "https://localhost:8080/"
        },
        "id": "QhIbUId0WUK2",
        "outputId": "ad6bf034-67e2-4d93-f95d-db02dc623ce3"
      },
      "execution_count": null,
      "outputs": [
        {
          "output_type": "stream",
          "name": "stdout",
          "text": [
            "Tu sói de menó!\n"
          ]
        }
      ]
    },
    {
      "cell_type": "code",
      "source": [
        "compra = float(input('Qual o valor da compra? '))\n",
        "\n",
        "if compra <= 100:\n",
        "  print('Sem desconto')\n",
        "elif compra <=500:\n",
        "  print(compra * 0.1)\n",
        "elif compra <= 1000:\n",
        "  print(compra * 0.2)\n",
        "else:\n",
        "  print (compra * 0,3)\n"
      ],
      "metadata": {
        "id": "6J8vADOMYd4r"
      },
      "execution_count": null,
      "outputs": []
    },
    {
      "cell_type": "code",
      "source": [
        "#Pergunta a idade do usuário e se tem CNH, caso satisfaça as duas condições\n",
        "\n",
        "idade = 25\n",
        "temCNH = False\n",
        "\n",
        "if idade >=18"
      ],
      "metadata": {
        "id": "t5lutIexfRSg"
      },
      "execution_count": null,
      "outputs": []
    }
  ]
}